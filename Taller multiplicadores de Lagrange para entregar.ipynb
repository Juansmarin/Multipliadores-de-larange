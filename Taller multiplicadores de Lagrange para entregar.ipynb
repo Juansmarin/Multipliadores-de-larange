{
 "cells": [
  {
   "cell_type": "markdown",
   "metadata": {},
   "source": [
    "# Práctica de multplicadores de Lagrange\n",
    "\n",
    "En la clase pasada aprendimos la optimización por medio de multiplicadores de Lagrange cuando la función objetivo está sujeta a ciertas restricciones.\n",
    "\n",
    "En resumen:\n",
    "\n",
    "1. Obtener la función lagrangiana.\n",
    "2. Derivar parcialmente.\n",
    "3. Encontrar el punto crítico.\n",
    "4. Evaluar el punto crítico.\n",
    "5. Evaluar otro punto que cumpla la restricción.\n",
    "6. Clasificar el punto crítico."
   ]
  },
  {
   "cell_type": "code",
   "execution_count": 1,
   "metadata": {},
   "outputs": [],
   "source": [
    "from sympy import *    # cargar paquetes para hacer calculos matemáticos\n",
    "init_printing(use_latex=True) "
   ]
  },
  {
   "cell_type": "markdown",
   "metadata": {},
   "source": [
    "## Ejemplo aplicado\n",
    "\n",
    "Una empresa puede elaborar\n",
    "su producto en dos de sus plantas. El costo de producir\n",
    "$x$ unidades en su primera planta y $y$ unidades en la segunda\n",
    "planta está dado por la función conjunta de costo\n",
    "$C(x, y) = x^2 +2y^2+5xy+700$. Si la empresa tiene una\n",
    "orden de suministrar 500 unidades, ¿cuántas unidades debe\n",
    "producir en cada planta con el objetivo de minimizar el\n",
    "costo total?\n"
   ]
  },
  {
   "cell_type": "code",
   "execution_count": 2,
   "metadata": {},
   "outputs": [],
   "source": [
    "x,y,l =symbols(\"x,y,l\")"
   ]
  },
  {
   "cell_type": "code",
   "execution_count": 3,
   "metadata": {},
   "outputs": [
    {
     "data": {
      "image/png": "[encoded data removed]",
      "text/latex": [
       "$\\displaystyle x^{2} + 5 x y + 2 y^{2} + 700$"
      ],
      "text/plain": [
       " 2              2      \n",
       "x  + 5⋅x⋅y + 2⋅y  + 700"
      ]
     },
     "execution_count": 3,
     "metadata": {},
     "output_type": "execute_result"
    }
   ],
   "source": [
    "C=x**2+2*y**2+5*x*y+700\n",
    "C"
   ]
  },
  {
   "cell_type": "code",
   "execution_count": 4,
   "metadata": {},
   "outputs": [
    {
     "data": {
      "image/png": "[encoded data removed]",
      "text/latex": [
       "$\\displaystyle x + y - 500$"
      ],
      "text/plain": [
       "x + y - 500"
      ]
     },
     "execution_count": 4,
     "metadata": {},
     "output_type": "execute_result"
    }
   ],
   "source": [
    "g=x+y-500 # x+y=500 pero se debe igualar a cero \n",
    "g"
   ]
  },
  {
   "cell_type": "code",
   "execution_count": 5,
   "metadata": {},
   "outputs": [
    {
     "data": {
      "image/png": "[encoded data removed]",
      "text/latex": [
       "$\\displaystyle - l \\left(x + y - 500\\right) + x^{2} + 5 x y + 2 y^{2} + 700$"
      ],
      "text/plain": [
       "                    2              2      \n",
       "-l⋅(x + y - 500) + x  + 5⋅x⋅y + 2⋅y  + 700"
      ]
     },
     "execution_count": 5,
     "metadata": {},
     "output_type": "execute_result"
    }
   ],
   "source": [
    "L=C-l*g\n",
    "L"
   ]
  },
  {
   "cell_type": "code",
   "execution_count": 6,
   "metadata": {},
   "outputs": [],
   "source": [
    "Lx=diff(L,x)\n",
    "Ly=diff(L,y)\n",
    "Ll=diff(L,l)"
   ]
  },
  {
   "cell_type": "code",
   "execution_count": 7,
   "metadata": {},
   "outputs": [
    {
     "data": {
      "image/png": "[encoded data removed]",
      "text/latex": [
       "$\\displaystyle \\left\\{ l : 2125, \\  x : 125, \\  y : 375\\right\\}$"
      ],
      "text/plain": [
       "{l: 2125, x: 125, y: 375}"
      ]
     },
     "execution_count": 7,
     "metadata": {},
     "output_type": "execute_result"
    }
   ],
   "source": [
    "pc=solve([Lx,Ly,Ll],[x,y,l])\n",
    "pc"
   ]
  },
  {
   "cell_type": "code",
   "execution_count": 8,
   "metadata": {},
   "outputs": [
    {
     "data": {
      "image/png": "[encoded data removed]",
      "text/latex": [
       "$\\displaystyle 531950$"
      ],
      "text/plain": [
       "531950"
      ]
     },
     "execution_count": 8,
     "metadata": {},
     "output_type": "execute_result"
    }
   ],
   "source": [
    "C.subs([(x,125),(y,375)])"
   ]
  },
  {
   "cell_type": "code",
   "execution_count": 9,
   "metadata": {},
   "outputs": [
    {
     "data": {
      "image/png": "[encoded data removed]",
      "text/latex": [
       "$\\displaystyle \\left[ 400\\right]$"
      ],
      "text/plain": [
       "[400]"
      ]
     },
     "execution_count": 9,
     "metadata": {},
     "output_type": "execute_result"
    }
   ],
   "source": [
    "solve(g.subs(x,100),y) # Punto para comparar"
   ]
  },
  {
   "cell_type": "code",
   "execution_count": 10,
   "metadata": {},
   "outputs": [
    {
     "data": {
      "image/png": "[encoded data removed]",
      "text/latex": [
       "$\\displaystyle 530700$"
      ],
      "text/plain": [
       "530700"
      ]
     },
     "execution_count": 10,
     "metadata": {},
     "output_type": "execute_result"
    }
   ],
   "source": [
    "C.subs([(x,100),(y,400)])"
   ]
  },
  {
   "cell_type": "markdown",
   "metadata": {},
   "source": [
    "Esto implica que el punto crítico $(125, 375)$ es un máximo y 531.950 es el valor máximo de la función."
   ]
  },
  {
   "cell_type": "markdown",
   "metadata": {},
   "source": [
    "## Ejemplo de inversiones\n",
    "\n",
    "Una inversión de $p$ dólares en las cuatro inversiones\n",
    "A, B, C y D da como resultado un rendimiento\n",
    "de $\\sqrt{p}$, $\\sqrt{1.2p}$, $\\sqrt{1.3p}$ y $\\sqrt{1.5p}$ dólares, respectivamente.\n",
    "Una persona desea invertir \\$12,000 en estas cuatro inversiones.\n",
    "¿Cuánto deberá invertir en cada una de ellas para\n",
    "maximizar el rendimiento anual?"
   ]
  },
  {
   "cell_type": "code",
   "execution_count": 11,
   "metadata": {},
   "outputs": [],
   "source": [
    "A,B,C,D,l =symbols(\"A,B,C,D,l\")"
   ]
  },
  {
   "cell_type": "markdown",
   "metadata": {},
   "source": [
    "A dinero invertido en el primer fondo\n",
    "\n",
    "B dinero invertido en el segundo fondo\n",
    "\n",
    "C dinero invertido en el tercer fondo\n",
    "\n",
    "D dinero invertido en el cuarto fondo"
   ]
  },
  {
   "cell_type": "code",
   "execution_count": 12,
   "metadata": {},
   "outputs": [
    {
     "data": {
      "image/png": "[encoded data removed]",
      "text/latex": [
       "$\\displaystyle \\sqrt{A} + 1.09544511501033 \\sqrt{B} + 1.14017542509914 \\sqrt{C} + 1.22474487139159 \\sqrt{D}$"
      ],
      "text/plain": [
       "√A + 1.09544511501033⋅√B + 1.14017542509914⋅√C + 1.22474487139159⋅√D"
      ]
     },
     "execution_count": 12,
     "metadata": {},
     "output_type": "execute_result"
    }
   ],
   "source": [
    "R=sqrt(A)+sqrt(1.2*B)+sqrt(1.3*C)+sqrt(1.5*D)\n",
    "R"
   ]
  },
  {
   "cell_type": "code",
   "execution_count": 13,
   "metadata": {},
   "outputs": [
    {
     "data": {
      "image/png": "[encoded data removed]",
      "text/latex": [
       "$\\displaystyle A + B + C + D - 12000$"
      ],
      "text/plain": [
       "A + B + C + D - 12000"
      ]
     },
     "execution_count": 13,
     "metadata": {},
     "output_type": "execute_result"
    }
   ],
   "source": [
    "g=A+B+C+D-12000 # A+B+C+D=12000\n",
    "g"
   ]
  },
  {
   "cell_type": "code",
   "execution_count": 15,
   "metadata": {},
   "outputs": [
    {
     "data": {
      "image/png": "[encoded data removed]",
      "text/latex": [
       "$\\displaystyle \\sqrt{A} + 1.09544511501033 \\sqrt{B} + 1.14017542509914 \\sqrt{C} + 1.22474487139159 \\sqrt{D} - l \\left(A + B + C + D - 12000\\right)$"
      ],
      "text/plain": [
       "√A + 1.09544511501033⋅√B + 1.14017542509914⋅√C + 1.22474487139159⋅√D - l⋅(A + \n",
       "B + C + D - 12000)"
      ]
     },
     "execution_count": 15,
     "metadata": {},
     "output_type": "execute_result"
    }
   ],
   "source": [
    "L=R-l*g\n",
    "L"
   ]
  },
  {
   "cell_type": "code",
   "execution_count": 16,
   "metadata": {},
   "outputs": [],
   "source": [
    "LA=diff(L,A)\n",
    "LB=diff(L,B)\n",
    "LC=diff(L,C)\n",
    "LD=diff(L,D)\n",
    "Ll=diff(L,l)\n"
   ]
  },
  {
   "cell_type": "code",
   "execution_count": 17,
   "metadata": {},
   "outputs": [
    {
     "data": {
      "image/png": "[encoded data removed]",
      "text/latex": [
       "$\\displaystyle \\left[ \\left( 2400.0, \\  2880.0, \\  3120.0, \\  3600.0, \\  0.0102062072615966\\right)\\right]$"
      ],
      "text/plain": [
       "[(2400.0, 2880.0, 3120.0, 3600.0, 0.0102062072615966)]"
      ]
     },
     "execution_count": 17,
     "metadata": {},
     "output_type": "execute_result"
    }
   ],
   "source": [
    "pc=solve([LA,LB,LC,LD,Ll],[A,B,C,D,l])\n",
    "pc"
   ]
  },
  {
   "cell_type": "code",
   "execution_count": 21,
   "metadata": {},
   "outputs": [
    {
     "data": {
      "image/png": "[encoded data removed]",
      "text/latex": [
       "$\\displaystyle 244.95$"
      ],
      "text/plain": [
       "244.95"
      ]
     },
     "execution_count": 21,
     "metadata": {},
     "output_type": "execute_result"
    }
   ],
   "source": [
    "round(R.subs([(A,2400),(B,2880),(C,3120), (D,3600)]),2)"
   ]
  },
  {
   "cell_type": "code",
   "execution_count": 18,
   "metadata": {},
   "outputs": [
    {
     "data": {
      "image/png": "[encoded data removed]",
      "text/latex": [
       "$\\displaystyle \\left[ 3900\\right]$"
      ],
      "text/plain": [
       "[3900]"
      ]
     },
     "execution_count": 18,
     "metadata": {},
     "output_type": "execute_result"
    }
   ],
   "source": [
    "solve(g.subs([(A,2300),(B,2800),(C,3000)]),D) # Punto para comparar"
   ]
  },
  {
   "cell_type": "code",
   "execution_count": 22,
   "metadata": {},
   "outputs": [
    {
     "data": {
      "image/png": "[encoded data removed]",
      "text/latex": [
       "$\\displaystyle 244.86$"
      ],
      "text/plain": [
       "244.86"
      ]
     },
     "execution_count": 22,
     "metadata": {},
     "output_type": "execute_result"
    }
   ],
   "source": [
    "round(R.subs([(A,2300),(B,2800),(C,3000), (D,3900)]),2)"
   ]
  },
  {
   "cell_type": "markdown",
   "metadata": {},
   "source": [
    "Se deben invertir 2400 dólares en el fondo A, 2880 dólares en el fondo B,3120 dólares en el fondo C,3600 US\\$ en el fondo D para obtener un rendimiento máximo de 244.95 dólares al año."
   ]
  },
  {
   "cell_type": "markdown",
   "metadata": {},
   "source": [
    "# Ejercicios\n",
    "\n",
    "Mediante el método de multiplicadores de Lagrange, determine y clasifique los puntos críticos de $f$ sujetos a las restricciones\n",
    "dadas.\n",
    "\n",
    "1. $f(x, y) =x^2  + y^2$  sujeto a $2x + 3y = 7$\n",
    "2. $g(x, y) = x^2 + y^2 - 3xy$  sujeto a $2x + 3y= 31$.\n",
    "3. $h(x, y) = 3x + 2y$  sujeto a $x^2 + y^2 = 13$.\n",
    "4. $m(u, v, w, x) =3u^2 -v^2 + 2w^2 + x^2$  sujeto a $3u + v - 2w + 4x = 20$."
   ]
  },
  {
   "cell_type": "markdown",
   "metadata": {},
   "source": [
    "5.  La función de\n",
    "producción de una empresa es $P(L, K) = 80L^{3/4}K^{1/4}$, en\n",
    "donde $L$ y $K$ representan el número de unidades de mano de\n",
    "obra y de capital utilizadas y $P$ es el número de unidades\n",
    "elaboradas del producto. Cada unidad de mano de obra tiene\n",
    "un costo de $\\$60$ y cada unidad de capital cuesta $\\$200$ y\n",
    "la empresa dispone de $\\$40,000$ destinados a producción.\n",
    "\n",
    "Aplicando el método de multiplicadores de Lagrange\n",
    "determine el número de unidades de mano de obra y de\n",
    "capital que la empresa debe emplear para obtener una\n",
    "producción máxima. ¿Cuál es esa producción máxima de la empresa?"
   ]
  },
  {
   "cell_type": "markdown",
   "metadata": {},
   "source": [
    "6. Si se gastan $x$ miles de dólares en mano de obra y $y$ miles de dólares en equipo, la producción de cierta fábrica\n",
    "será de\n",
    "$Q(x, y) = 60x^{1/3}y^{2/3}$ unidades. Si hay US$120.000 disponibles, ¿Cómo debe distribuirse el dinero, entre mano de obra y equipo,\n",
    "para general la mayor producción posible? ¿Cuál es la producción?"
   ]
  },
  {
   "cell_type": "markdown",
   "metadata": {},
   "source": [
    "7. La función de producción de una empresa es $P(L, K) = 800\\sqrt{3L^2+1.5K^2}$, en donde $L$ y $K$ representan el número de unidades de mano de\n",
    "obra y de capital utilizadas y $P$ es el número de unidades elaboradas del producto. Los costos unitarios de la mano de obra y del capital son\n",
    "de $\\$250$ y $\\$50$ y la empresa dispone de $\\$6750$ para gastar en producción.\n",
    "\n",
    "Aplicando el método de multiplicadores de Lagrange\n",
    "determine el número de unidades de mano de obra y de\n",
    "capital que la empresa debe emplear para obtener una\n",
    "producción máxima. ¿Cuál es esa producción máxima de la empresa?"
   ]
  }
 ],
 "metadata": {
  "kernelspec": {
   "display_name": "Python 3",
   "language": "python",
   "name": "python3"
  },
  "language_info": {
   "codemirror_mode": {
    "name": "ipython",
    "version": 3
   },
   "file_extension": ".py",
   "mimetype": "text/x-python",
   "name": "python",
   "nbconvert_exporter": "python",
   "pygments_lexer": "ipython3",
   "version": "3.7.1"
  },
  "latex_envs": {
   "LaTeX_envs_menu_present": true,
   "autoclose": false,
   "autocomplete": true,
   "bibliofile": "biblio.bib",
   "cite_by": "apalike",
   "current_citInitial": 1,
   "eqLabelWithNumbers": true,
   "eqNumInitial": 1,
   "hotkeys": {
    "equation": "Ctrl-E",
    "itemize": "Ctrl-I"
   },
   "labels_anchors": false,
   "latex_user_defs": false,
   "report_style_numbering": false,
   "user_envs_cfg": false
  },
  "toc": {
   "base_numbering": 1,
   "nav_menu": {},
   "number_sections": true,
   "sideBar": true,
   "skip_h1_title": false,
   "title_cell": "Table of Contents",
   "title_sidebar": "Contents",
   "toc_cell": false,
   "toc_position": {},
   "toc_section_display": true,
   "toc_window_display": false
  }
 },
 "nbformat": 4,
 "nbformat_minor": 2
}
